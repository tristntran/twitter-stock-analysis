{
 "cells": [
  {
   "cell_type": "code",
   "execution_count": null,
   "metadata": {},
   "outputs": [],
   "source": [
    "from tweets import get_tweets\n",
    "from stock_scraper import get_stock_data"
   ]
  },
  {
   "cell_type": "code",
   "execution_count": null,
   "metadata": {},
   "outputs": [],
   "source": [
    "get_tweets(\"Apple\", start_date=\"2021-01-01\", end_date=\"2021-01-31\",\n",
    "           max_tweets=1000,\n",
    "           save_to_file=True, file_name=\"apple_tweets.csv\")"
   ]
  }
 ],
 "metadata": {
  "language_info": {
   "name": "python"
  }
 },
 "nbformat": 4,
 "nbformat_minor": 2
}
